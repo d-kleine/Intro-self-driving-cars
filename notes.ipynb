{
 "cells": [
  {
   "cell_type": "code",
   "execution_count": 6,
   "id": "dfa8ad44",
   "metadata": {},
   "outputs": [],
   "source": [
    "def total_probability(p_d, p_p_d, p_n_d):\n",
    "    total = p_d*p_p_d + (1-p_d)*p_n_d\n",
    "    return total"
   ]
  },
  {
   "cell_type": "code",
   "execution_count": 9,
   "id": "b6e7cb0c",
   "metadata": {},
   "outputs": [
    {
     "data": {
      "text/plain": [
       "0.6"
      ]
     },
     "execution_count": 9,
     "metadata": {},
     "output_type": "execute_result"
    }
   ],
   "source": [
    "total_probability(0.2, 0.6, 0.6)"
   ]
  },
  {
   "cell_type": "code",
   "execution_count": 1,
   "id": "68108642",
   "metadata": {},
   "outputs": [],
   "source": [
    "def bayes(p0, p1, p2):\n",
    "    b = (p0 * p1)/(p0 * p1 + (1-p0) * (1-p2))\n",
    "    return b"
   ]
  },
  {
   "cell_type": "code",
   "execution_count": 3,
   "id": "d2514895",
   "metadata": {},
   "outputs": [
    {
     "data": {
      "text/plain": [
       "0.75"
      ]
     },
     "execution_count": 3,
     "metadata": {},
     "output_type": "execute_result"
    }
   ],
   "source": [
    "bayes(0.3, 0.7, 0.9)"
   ]
  },
  {
   "cell_type": "code",
   "execution_count": 10,
   "id": "1bd24223",
   "metadata": {},
   "outputs": [],
   "source": [
    "def gaussian_density(x, mu, sigma):\n",
    "    return (1/np.sqrt(2*np.pi*np.power(sigma, 2.))) * np.exp(-np.power(x - mu, 2.) / (2 * np.power(sigma, 2.)))"
   ]
  },
  {
   "cell_type": "code",
   "execution_count": 12,
   "id": "10f0a61d",
   "metadata": {},
   "outputs": [
    {
     "data": {
      "text/plain": [
       "array([0.00439836, 0.03520653, 0.03910427, 0.03989423, 0.01941861,\n",
       "       0.00079155])"
      ]
     },
     "execution_count": 12,
     "metadata": {},
     "output_type": "execute_result"
    }
   ],
   "source": [
    "import numpy as np\n",
    "\n",
    "x = np.array([29, 45, 48, 50, 62, 78])\n",
    "mean = 50\n",
    "sd = 10\n",
    "\n",
    "gaussian_density(x=x, mu=mean, sigma=sd)"
   ]
  },
  {
   "cell_type": "code",
   "execution_count": null,
   "id": "aca68f45",
   "metadata": {},
   "outputs": [],
   "source": []
  }
 ],
 "metadata": {
  "kernelspec": {
   "display_name": "Python 3 (ipykernel)",
   "language": "python",
   "name": "python3"
  },
  "language_info": {
   "codemirror_mode": {
    "name": "ipython",
    "version": 3
   },
   "file_extension": ".py",
   "mimetype": "text/x-python",
   "name": "python",
   "nbconvert_exporter": "python",
   "pygments_lexer": "ipython3",
   "version": "3.9.12"
  }
 },
 "nbformat": 4,
 "nbformat_minor": 5
}
