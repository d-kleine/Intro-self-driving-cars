{
 "cells": [
  {
   "cell_type": "code",
   "execution_count": 6,
   "id": "dfa8ad44",
   "metadata": {},
   "outputs": [],
   "source": [
    "def total_probability(p_d, p_p_d, p_n_d):\n",
    "    total = p_d*p_p_d + (1-p_d)*p_n_d\n",
    "    return total"
   ]
  },
  {
   "cell_type": "code",
   "execution_count": 9,
   "id": "b6e7cb0c",
   "metadata": {},
   "outputs": [
    {
     "data": {
      "text/plain": [
       "0.6"
      ]
     },
     "execution_count": 9,
     "metadata": {},
     "output_type": "execute_result"
    }
   ],
   "source": [
    "total_probability(0.2, 0.6, 0.6)"
   ]
  },
  {
   "cell_type": "code",
   "execution_count": 1,
   "id": "68108642",
   "metadata": {},
   "outputs": [],
   "source": [
    "def bayes(p0, p1, p2):\n",
    "    b = (p0 * p1)/(p0 * p1 + (1-p0) * (1-p2))\n",
    "    return b"
   ]
  },
  {
   "cell_type": "code",
   "execution_count": 3,
   "id": "d2514895",
   "metadata": {},
   "outputs": [
    {
     "data": {
      "text/plain": [
       "0.75"
      ]
     },
     "execution_count": 3,
     "metadata": {},
     "output_type": "execute_result"
    }
   ],
   "source": [
    "bayes(0.3, 0.7, 0.9)"
   ]
  },
  {
   "cell_type": "code",
   "execution_count": null,
   "id": "1bd24223",
   "metadata": {},
   "outputs": [],
   "source": []
  }
 ],
 "metadata": {
  "kernelspec": {
   "display_name": "Python 3 (ipykernel)",
   "language": "python",
   "name": "python3"
  },
  "language_info": {
   "codemirror_mode": {
    "name": "ipython",
    "version": 3
   },
   "file_extension": ".py",
   "mimetype": "text/x-python",
   "name": "python",
   "nbconvert_exporter": "python",
   "pygments_lexer": "ipython3",
   "version": "3.9.12"
  }
 },
 "nbformat": 4,
 "nbformat_minor": 5
}
